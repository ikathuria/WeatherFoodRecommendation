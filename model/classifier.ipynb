{
 "cells": [
  {
   "cell_type": "code",
   "execution_count": 1,
   "metadata": {},
   "outputs": [],
   "source": [
    "import pandas as pd                                   # file reading and manipulation\n",
    "import numpy as np                                    # array creation and manipulation\n",
    "import requests\n",
    "import json\n",
    "import pickle\n",
    "import skfuzzy                                        # fuzzy logic library\n",
    "from skfuzzy import control as ctrl                   # fuzzy logic\n",
    "from sklearn.model_selection import train_test_split  # train/test split\n",
    "from sklearn.linear_model import LogisticRegression   # Logistic Regression\n",
    "from sklearn.ensemble import RandomForestClassifier\n",
    "\n",
    "from sklearn.metrics import accuracy_score            # evaluation\n",
    "from sklearn.metrics import confusion_matrix\n",
    "from sklearn.metrics import ConfusionMatrixDisplay\n",
    "import graphviz                                       # visualization\n",
    "import matplotlib.pyplot as plt                       # plotting"
   ]
  },
  {
   "attachments": {},
   "cell_type": "markdown",
   "metadata": {},
   "source": [
    "## Preprocessing"
   ]
  },
  {
   "cell_type": "code",
   "execution_count": 2,
   "metadata": {},
   "outputs": [],
   "source": [
    "df = pd.read_excel(\"../data/Weather based food choices (Responses).xlsx\")\n",
    "\n",
    "x = df['Dish name'].to_list()\n",
    "x1 = df['Time of Day'].str.split(', ')\n",
    "x2 = df['Season'].str.split(', ')\n",
    "\n",
    "r = []\n",
    "for i in range(len(x)):\n",
    "    for j in range(len(x1[i])):\n",
    "        for k in range(len(x2[i])):\n",
    "            r.append([\n",
    "                x[i],\n",
    "                x1[i][j].replace('_', ' '),\n",
    "                x2[i][k].replace('_', ' ')\n",
    "            ])"
   ]
  },
  {
   "attachments": {},
   "cell_type": "markdown",
   "metadata": {},
   "source": [
    "## Training the Logistic Regression Model"
   ]
  },
  {
   "cell_type": "code",
   "execution_count": 5,
   "metadata": {},
   "outputs": [
    {
     "data": {
      "text/html": [
       "<div>\n",
       "<style scoped>\n",
       "    .dataframe tbody tr th:only-of-type {\n",
       "        vertical-align: middle;\n",
       "    }\n",
       "\n",
       "    .dataframe tbody tr th {\n",
       "        vertical-align: top;\n",
       "    }\n",
       "\n",
       "    .dataframe thead th {\n",
       "        text-align: right;\n",
       "    }\n",
       "</style>\n",
       "<table border=\"1\" class=\"dataframe\">\n",
       "  <thead>\n",
       "    <tr style=\"text-align: right;\">\n",
       "      <th></th>\n",
       "      <th>dish</th>\n",
       "      <th>meal</th>\n",
       "      <th>season</th>\n",
       "    </tr>\n",
       "  </thead>\n",
       "  <tbody>\n",
       "    <tr>\n",
       "      <th>0</th>\n",
       "      <td>0</td>\n",
       "      <td>0</td>\n",
       "      <td>0</td>\n",
       "    </tr>\n",
       "    <tr>\n",
       "      <th>1</th>\n",
       "      <td>0</td>\n",
       "      <td>0</td>\n",
       "      <td>1</td>\n",
       "    </tr>\n",
       "    <tr>\n",
       "      <th>2</th>\n",
       "      <td>0</td>\n",
       "      <td>0</td>\n",
       "      <td>2</td>\n",
       "    </tr>\n",
       "    <tr>\n",
       "      <th>3</th>\n",
       "      <td>0</td>\n",
       "      <td>0</td>\n",
       "      <td>3</td>\n",
       "    </tr>\n",
       "    <tr>\n",
       "      <th>4</th>\n",
       "      <td>0</td>\n",
       "      <td>1</td>\n",
       "      <td>0</td>\n",
       "    </tr>\n",
       "    <tr>\n",
       "      <th>...</th>\n",
       "      <td>...</td>\n",
       "      <td>...</td>\n",
       "      <td>...</td>\n",
       "    </tr>\n",
       "    <tr>\n",
       "      <th>259</th>\n",
       "      <td>56</td>\n",
       "      <td>2</td>\n",
       "      <td>0</td>\n",
       "    </tr>\n",
       "    <tr>\n",
       "      <th>260</th>\n",
       "      <td>56</td>\n",
       "      <td>1</td>\n",
       "      <td>0</td>\n",
       "    </tr>\n",
       "    <tr>\n",
       "      <th>261</th>\n",
       "      <td>57</td>\n",
       "      <td>0</td>\n",
       "      <td>0</td>\n",
       "    </tr>\n",
       "    <tr>\n",
       "      <th>262</th>\n",
       "      <td>57</td>\n",
       "      <td>2</td>\n",
       "      <td>0</td>\n",
       "    </tr>\n",
       "    <tr>\n",
       "      <th>263</th>\n",
       "      <td>57</td>\n",
       "      <td>1</td>\n",
       "      <td>0</td>\n",
       "    </tr>\n",
       "  </tbody>\n",
       "</table>\n",
       "<p>264 rows × 3 columns</p>\n",
       "</div>"
      ],
      "text/plain": [
       "     dish  meal  season\n",
       "0       0     0       0\n",
       "1       0     0       1\n",
       "2       0     0       2\n",
       "3       0     0       3\n",
       "4       0     1       0\n",
       "..    ...   ...     ...\n",
       "259    56     2       0\n",
       "260    56     1       0\n",
       "261    57     0       0\n",
       "262    57     2       0\n",
       "263    57     1       0\n",
       "\n",
       "[264 rows x 3 columns]"
      ]
     },
     "execution_count": 5,
     "metadata": {},
     "output_type": "execute_result"
    }
   ],
   "source": [
    "dataset = pd.DataFrame(r, columns=['dish', 'meal', 'season'])\n",
    "dataset.to_csv('../data/data.csv')\n",
    "\n",
    "data_dict = {}\n",
    "dataset['dish'], data_dict['dish'] = pd.factorize(dataset['dish'])\n",
    "dataset['season'], data_dict['season'] = pd.factorize(dataset['season'])\n",
    "dataset['meal'], data_dict['meal'] = pd.factorize(dataset['meal'])\n",
    "\n",
    "for key, val in data_dict.items():\n",
    "    data_dict[key] = list(val)\n",
    "\n",
    "pd.Series(data_dict).to_json(\"data_dict.json\")\n",
    "\n",
    "dataset"
   ]
  },
  {
   "cell_type": "code",
   "execution_count": 6,
   "metadata": {},
   "outputs": [],
   "source": [
    "y = dataset.pop('dish').to_numpy()\n",
    "x = dataset.to_numpy()"
   ]
  },
  {
   "cell_type": "code",
   "execution_count": 7,
   "metadata": {},
   "outputs": [
    {
     "name": "stdout",
     "output_type": "stream",
     "text": [
      "Training inputs:  (176, 2)\n",
      "Testing inputs:  (88, 2)\n",
      "Training outputs:  (176,)\n",
      "Testing outputs:  (88,)\n"
     ]
    }
   ],
   "source": [
    "x_train, x_test, y_train, y_test = train_test_split(\n",
    "    x, y, test_size=0.33,\n",
    "    random_state=0,\n",
    "    stratify=y\n",
    ")\n",
    "\n",
    "print('Training inputs: ', x_train.shape)\n",
    "print('Testing inputs: ', x_test.shape)\n",
    "print('Training outputs: ', y_train.shape)\n",
    "print('Testing outputs: ', y_test.shape)"
   ]
  },
  {
   "cell_type": "code",
   "execution_count": 12,
   "metadata": {},
   "outputs": [
    {
     "data": {
      "text/plain": [
       "(0.011363636363636364, 0.13068181818181818, 0.09090909090909091)"
      ]
     },
     "execution_count": 12,
     "metadata": {},
     "output_type": "execute_result"
    }
   ],
   "source": [
    "rf = RandomForestClassifier(\n",
    "    n_estimators=100,\n",
    "    random_state=10\n",
    ").fit(x_train, y_train)\n",
    "rf.score(x_test, y_test), rf.score(x_train, y_train), rf.score(x, y)"
   ]
  },
  {
   "cell_type": "code",
   "execution_count": 57,
   "metadata": {},
   "outputs": [],
   "source": [
    "filename = 'rf.sav'\n",
    "pickle.dump(rf, open(filename, 'wb'))"
   ]
  },
  {
   "cell_type": "code",
   "execution_count": 63,
   "metadata": {},
   "outputs": [
    {
     "data": {
      "text/plain": [
       "(0.03409090909090909, 0.10795454545454546, 0.08333333333333333)"
      ]
     },
     "execution_count": 63,
     "metadata": {},
     "output_type": "execute_result"
    }
   ],
   "source": [
    "lr = LogisticRegression(\n",
    "    multi_class='multinomial',\n",
    "    max_iter=1000,\n",
    "    solver='newton-cg',\n",
    "    random_state=0\n",
    ").fit(x_train, y_train)\n",
    "lr.score(x_test, y_test), lr.score(x_train, y_train), lr.score(x, y)"
   ]
  },
  {
   "cell_type": "code",
   "execution_count": 64,
   "metadata": {},
   "outputs": [],
   "source": [
    "filename = 'lr.sav'\n",
    "pickle.dump(lr, open(filename, 'wb'))"
   ]
  },
  {
   "cell_type": "code",
   "execution_count": null,
   "metadata": {},
   "outputs": [],
   "source": []
  },
  {
   "cell_type": "code",
   "execution_count": null,
   "metadata": {},
   "outputs": [],
   "source": []
  },
  {
   "cell_type": "code",
   "execution_count": null,
   "metadata": {},
   "outputs": [],
   "source": []
  },
  {
   "cell_type": "markdown",
   "metadata": {},
   "source": [
    "## Creating Fuzzy Variables"
   ]
  },
  {
   "cell_type": "code",
   "execution_count": 3,
   "metadata": {},
   "outputs": [
    {
     "name": "stderr",
     "output_type": "stream",
     "text": [
      "C:\\Users\\ikath\\AppData\\Roaming\\Python\\Python310\\site-packages\\skfuzzy\\control\\fuzzyvariable.py:122: UserWarning: Matplotlib is currently using module://matplotlib_inline.backend_inline, which is a non-GUI backend, so cannot show the figure.\n",
      "  fig.show()\n"
     ]
    },
    {
     "data": {
      "image/png": "[encoded data removed]",
      "text/plain": [
       "<Figure size 432x288 with 1 Axes>"
      ]
     },
     "metadata": {
      "needs_background": "light"
     },
     "output_type": "display_data"
    }
   ],
   "source": [
    "temp = ctrl.Antecedent(np.arange(0, 50, 1), 'temp')\n",
    "temp['winter'] = skfuzzy.gaussmf(temp.universe, 15, 10)\n",
    "temp['summer'] = skfuzzy.gaussmf(temp.universe, 35, 10)\n",
    "temp['monsoon'] = skfuzzy.gaussmf(temp.universe, 32.5, 2.5)\n",
    "temp['post_monsoon'] = skfuzzy.gaussmf(temp.universe, 25, 5)\n",
    "\n",
    "temp.view()"
   ]
  },
  {
   "cell_type": "code",
   "execution_count": 4,
   "metadata": {},
   "outputs": [
    {
     "data": {
      "image/png": "[encoded data removed]",
      "text/plain": [
       "<Figure size 432x288 with 1 Axes>"
      ]
     },
     "metadata": {
      "needs_background": "light"
     },
     "output_type": "display_data"
    }
   ],
   "source": [
    "time = ctrl.Antecedent(np.arange(0, 24, 1), 'time')\n",
    "time['late_night'] = skfuzzy.gaussmf(time.universe, 3, 3)\n",
    "time['morning'] = skfuzzy.gaussmf(time.universe, 9.5, 2)\n",
    "time['afternoon'] = skfuzzy.gaussmf(time.universe, 14.5, 1.5)\n",
    "time['evening'] = skfuzzy.gaussmf(time.universe, 17.5, 1.5)\n",
    "time['night'] = skfuzzy.gaussmf(time.universe, 21.5, 2)\n",
    "\n",
    "time.view()"
   ]
  },
  {
   "cell_type": "code",
   "execution_count": 18,
   "metadata": {},
   "outputs": [
    {
     "data": {
      "image/png": "[encoded data removed]",
      "text/plain": [
       "<Figure size 432x288 with 1 Axes>"
      ]
     },
     "metadata": {
      "needs_background": "light"
     },
     "output_type": "display_data"
    }
   ],
   "source": [
    "ex = ctrl.Antecedent(np.arange(0, 11, 1), 'examples')\n",
    "ex['c=5,s=0.5'] = skfuzzy.gaussmf(ex.universe, 5, 0.5)\n",
    "ex['c=5,s=2'] = skfuzzy.gaussmf(ex.universe, 5, 2)\n",
    "ex['c=5,s=5'] = skfuzzy.gaussmf(ex.universe, 5, 5)\n",
    "\n",
    "ex.view()"
   ]
  },
  {
   "cell_type": "code",
   "execution_count": null,
   "metadata": {},
   "outputs": [],
   "source": [
    "def fuzzify_input(curr_temperature, curr_time):\n",
    "    winter_fuzzy = skfuzzy.interp_membership(\n",
    "        temp.universe, temp['winter'].mf, curr_temperature\n",
    "    )\n",
    "    monsoon_fuzzy = skfuzzy.interp_membership(\n",
    "        temp.universe, temp['monsoon'].mf, curr_temperature\n",
    "    )\n",
    "    summer_fuzzy = skfuzzy.interp_membership(\n",
    "        temp.universe, temp['summer'].mf, curr_temperature\n",
    "    )\n",
    "    spring_fuzzy = skfuzzy.interp_membership(\n",
    "        temp.universe, temp['spring'].mf, curr_temperature\n",
    "    )\n",
    "    autumn_fuzzy = skfuzzy.interp_membership(\n",
    "        temp.universe, temp['autumn'].mf, curr_temperature\n",
    "    )\n",
    "\n",
    "    season = {\n",
    "        'winter': winter_fuzzy, 'monsoon': monsoon_fuzzy, 'summer': summer_fuzzy,\n",
    "        'spring': spring_fuzzy, 'autumn': autumn_fuzzy\n",
    "    }\n",
    "\n",
    "    late_night_fuzzy = skfuzzy.interp_membership(\n",
    "        time.universe, time['late_night'].mf, curr_time\n",
    "    )\n",
    "    morning_fuzzy = skfuzzy.interp_membership(\n",
    "        time.universe, time['morning'].mf, curr_time\n",
    "    )\n",
    "    afternoon_fuzzy = skfuzzy.interp_membership(\n",
    "        time.universe, time['afternoon'].mf, curr_time\n",
    "    )\n",
    "    evening_fuzzy = skfuzzy.interp_membership(\n",
    "        time.universe, time['evening'].mf, curr_time\n",
    "    )\n",
    "    night_fuzzy = skfuzzy.interp_membership(\n",
    "        time.universe, time['night'].mf, curr_time\n",
    "    )\n",
    "\n",
    "    meal = {\n",
    "        'late_night': late_night_fuzzy, 'morning': morning_fuzzy,\n",
    "        'afternoon': afternoon_fuzzy, 'evening': evening_fuzzy, 'night': night_fuzzy\n",
    "    }\n",
    "\n",
    "    return max(season, key=lambda x: season[x]), max(meal, key=lambda x: meal[x])"
   ]
  },
  {
   "cell_type": "code",
   "execution_count": null,
   "metadata": {},
   "outputs": [],
   "source": [
    "cals = ctrl.Consequent(np.arange(0, 1000, 1), 'calories')\n",
    "cals['very_low'] = skfuzzy.gaussmf(cals.universe, 150, 50)\n",
    "cals['low'] = skfuzzy.gaussmf(cals.universe, 350, 50)\n",
    "cals['mid'] = skfuzzy.gaussmf(cals.universe, 550, 50)\n",
    "cals['high'] = skfuzzy.gaussmf(cals.universe, 750, 50)\n",
    "\n",
    "cals.view()"
   ]
  },
  {
   "cell_type": "code",
   "execution_count": null,
   "metadata": {},
   "outputs": [],
   "source": [
    "# WINTER ---------------------------------------------------------\n",
    "r1 = ctrl.Rule(\n",
    "    temp['winter'] | time['late_night'], cals['very_low']\n",
    ")\n",
    "r2 = ctrl.Rule(\n",
    "    temp['winter'] | time['morning'], cals['very_low']\n",
    ")\n",
    "r3 = ctrl.Rule(\n",
    "    temp['winter'] | time['afternoon'], cals['very_low']\n",
    ")\n",
    "r4 = ctrl.Rule(\n",
    "    temp['winter'] | time['evening'], cals['very_low']\n",
    ")\n",
    "r5 = ctrl.Rule(\n",
    "    temp['winter'] | time['night'], cals['very_low']\n",
    ")\n",
    "\n",
    "# MONSOON --------------------------------------------------------\n",
    "r6 = ctrl.Rule(\n",
    "    temp['monsoon'] | time['late_night'], cals['very_low']\n",
    ")\n",
    "r7 = ctrl.Rule(\n",
    "    temp['monsoon'] | time['morning'], cals['very_low']\n",
    ")\n",
    "r8 = ctrl.Rule(\n",
    "    temp['monsoon'] | time['afternoon'], cals['very_low']\n",
    ")\n",
    "r9 = ctrl.Rule(\n",
    "    temp['monsoon'] | time['evening'], cals['very_low']\n",
    ")\n",
    "r10 = ctrl.Rule(\n",
    "    temp['monsoon'] | time['night'], cals['very_low']\n",
    ")\n",
    "\n",
    "# SUMMER ---------------------------------------------------------\n",
    "r11 = ctrl.Rule(\n",
    "    temp['summer'] | time['late_night'], cals['very_low']\n",
    ")\n",
    "r12 = ctrl.Rule(\n",
    "    temp['summer'] | time['morning'], cals['very_low']\n",
    ")\n",
    "r13 = ctrl.Rule(\n",
    "    temp['summer'] | time['afternoon'], cals['very_low']\n",
    ")\n",
    "r14 = ctrl.Rule(\n",
    "    temp['summer'] | time['evening'], cals['very_low']\n",
    ")\n",
    "r15 = ctrl.Rule(\n",
    "    temp['summer'] | time['night'], cals['very_low']\n",
    ")\n",
    "\n",
    "# SPRING ----------------------------------------------------------\n",
    "r16 = ctrl.Rule(\n",
    "    temp['spring'] | time['late_night'], cals['very_low']\n",
    ")\n",
    "r17 = ctrl.Rule(\n",
    "    temp['spring'] | time['morning'], cals['very_low']\n",
    ")\n",
    "r18 = ctrl.Rule(\n",
    "    temp['spring'] | time['afternoon'], cals['very_low']\n",
    ")\n",
    "r19 = ctrl.Rule(\n",
    "    temp['spring'] | time['evening'], cals['very_low']\n",
    ")\n",
    "r20 = ctrl.Rule(\n",
    "    temp['spring'] | time['night'], cals['very_low']\n",
    ")\n",
    "\n",
    "# AUTUMN ---------------------------------------------------------\n",
    "r21 = ctrl.Rule(\n",
    "    temp['autumn'] | time['late_night'], cals['very_low']\n",
    ")\n",
    "r22 = ctrl.Rule(\n",
    "    temp['autumn'] | time['morning'], cals['very_low']\n",
    ")\n",
    "r23 = ctrl.Rule(\n",
    "    temp['autumn'] | time['afternoon'], cals['very_low']\n",
    ")\n",
    "r24 = ctrl.Rule(\n",
    "    temp['autumn'] | time['evening'], cals['very_low']\n",
    ")\n",
    "r25 = ctrl.Rule(\n",
    "    temp['autumn'] | time['night'], cals['very_low']\n",
    ")"
   ]
  },
  {
   "cell_type": "code",
   "execution_count": null,
   "metadata": {},
   "outputs": [],
   "source": [
    "menu_ctrl = ctrl.ControlSystem([\n",
    "    r1, r2, r3, r4, r5, r6, r7, r8, r9, r10,\n",
    "    r11, r12, r13, r14, r15, r16, r17, r18,\n",
    "    r19, r20, r21, r22, r23, r24, r25\n",
    "])\n",
    "menu = ctrl.ControlSystemSimulation(menu_ctrl)"
   ]
  },
  {
   "cell_type": "code",
   "execution_count": null,
   "metadata": {},
   "outputs": [],
   "source": [
    "menu.input['temp'] = curr_temperature\n",
    "menu.input['time'] = curr_time\n",
    "\n",
    "menu.compute()\n",
    "menu.output['calories']"
   ]
  },
  {
   "cell_type": "code",
   "execution_count": null,
   "metadata": {},
   "outputs": [],
   "source": []
  }
 ],
 "metadata": {
  "kernelspec": {
   "display_name": "Python 3.10.5 64-bit",
   "language": "python",
   "name": "python3"
  },
  "language_info": {
   "codemirror_mode": {
    "name": "ipython",
    "version": 3
   },
   "file_extension": ".py",
   "mimetype": "text/x-python",
   "name": "python",
   "nbconvert_exporter": "python",
   "pygments_lexer": "ipython3",
   "version": "3.10.8 (tags/v3.10.8:aaaf517, Oct 11 2022, 16:50:30) [MSC v.1933 64 bit (AMD64)]"
  },
  "orig_nbformat": 4,
  "vscode": {
   "interpreter": {
    "hash": "26de051ba29f2982a8de78e945f0abaf191376122a1563185a90213a26c5da77"
   }
  }
 },
 "nbformat": 4,
 "nbformat_minor": 2
}
